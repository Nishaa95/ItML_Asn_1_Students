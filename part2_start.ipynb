{
 "cells": [
  {
   "cell_type": "code",
   "execution_count": 42,
   "metadata": {},
   "outputs": [],
   "source": [
    "import pandas as pd\n",
    "import numpy as np\n",
    "import ml_utils\n",
    "\n",
    "from sklearn.model_selection import cross_val_score\n",
    "from sklearn.metrics import roc_auc_score\n",
    "from sklearn.metrics import accuracy_score\n",
    "from sklearn.model_selection import train_test_split\n",
    "from sklearn.tree import DecisionTreeClassifier\n",
    "from sklearn.ensemble import RandomForestClassifier\n",
    "from sklearn.tree import plot_tree\n",
    "from sklearn.preprocessing import StandardScaler\n",
    "from sklearn.preprocessing import MinMaxScaler\n",
    "from sklearn.pipeline import Pipeline\n",
    "from sklearn.compose import ColumnTransformer\n",
    "from sklearn.impute import SimpleImputer\n",
    "from sklearn.model_selection import GridSearchCV\n",
    "from sklearn.preprocessing import OneHotEncoder\n",
    "\n",
    "##Seaborn for fancy plots. \n",
    "import matplotlib.pyplot as plt\n",
    "import seaborn as sns\n",
    "plt.rcParams[\"figure.figsize\"] = (8,8)"
   ]
  },
  {
   "attachments": {},
   "cell_type": "markdown",
   "metadata": {},
   "source": [
    "## 3950 Assignment 1: Part 2\n",
    "\n",
    "For this assignment we want to use some sort of tree based model to classify the data below. We have a very small training set, so overfitting is a very real concern. \n",
    "\n",
    "Some specifics for this assignment:\n",
    "<ul>\n",
    "<li>Please use the show_eda to control if EDA stuff is shown. I don't really need to see all the EDA stuff (nor do you after you've done it), so we can make it configurable with a variable to speed up time. Please set this FALSE when you submit, so I can run all and see the outcome without histograms etc...\n",
    "<li>Please ensure that whatever model you end up with is in a variable named best at the end.\n",
    "<li>Please use some pipeline in prepping the data. The test data is in an identical format to the training data, so whatever pipeline you've created for your training will work for the testing. \n",
    "<li>The accuracy scoring will be an average of accuracy and roc_auc. \n",
    "</ul>\n",
    "\n",
    "### Grading Metrics\n",
    "<ul>\n",
    "<li><b>Pipeline Used - 10pts</b> The data loading needs to be in a pipeline. See the test part for illustration. When testing I'll call your pipe with the new data (format is identical to training), so any prep stuff should be in the pipeline. \n",
    "<li><b>Tree Based Model Used - 5pts</b> The model used for classification needs to be some variety of tree, beyond that it is up to you. \n",
    "<li><b>Accuracy - 5pts</b> The final accuracy acheived. This will be a rough ranking, I'm assuming most people will get a similar level of accuracy, marks will only be deducted if yours is far wosrse, as that's an indication that you probably didn't take any/many steps to improve things. \n",
    "<li><b>Clarity and Formatting - 5pts</b> Is it organized and can I read it?\n",
    "    <ul>\n",
    "    <li> <b>Note:</b> for this assignment, and in general, please get rid of my comments and replace them with your own. I'm going to read this, so all of these instructions aren't really required. Think of this as a template, get rid of the stuff that isn't needed, and leave only the things you need to explain your code. \n",
    "    </ul>\n",
    "</ul>\n",
    "\n",
    "For submission, please drop the URL for your repository in the dropbox."
   ]
  },
  {
   "cell_type": "code",
   "execution_count": 2,
   "metadata": {},
   "outputs": [],
   "source": [
    "#Please change to your name.\n",
    "name = \"Nishaa muthusamy\"\n",
    "\n",
    "#Please use this to control EDA. \n",
    "show_eda = False"
   ]
  },
  {
   "cell_type": "code",
   "execution_count": 3,
   "metadata": {},
   "outputs": [
    {
     "data": {
      "text/html": [
       "<div>\n",
       "<style scoped>\n",
       "    .dataframe tbody tr th:only-of-type {\n",
       "        vertical-align: middle;\n",
       "    }\n",
       "\n",
       "    .dataframe tbody tr th {\n",
       "        vertical-align: top;\n",
       "    }\n",
       "\n",
       "    .dataframe thead th {\n",
       "        text-align: right;\n",
       "    }\n",
       "</style>\n",
       "<table border=\"1\" class=\"dataframe\">\n",
       "  <thead>\n",
       "    <tr style=\"text-align: right;\">\n",
       "      <th></th>\n",
       "      <th>target</th>\n",
       "      <th>var_1</th>\n",
       "      <th>var_2</th>\n",
       "      <th>var_3</th>\n",
       "      <th>var_4</th>\n",
       "      <th>var_5</th>\n",
       "      <th>var_6</th>\n",
       "      <th>var_7</th>\n",
       "      <th>var_8</th>\n",
       "      <th>var_9</th>\n",
       "      <th>...</th>\n",
       "      <th>var_191</th>\n",
       "      <th>var_192</th>\n",
       "      <th>var_193</th>\n",
       "      <th>var_194</th>\n",
       "      <th>var_195</th>\n",
       "      <th>var_196</th>\n",
       "      <th>var_197</th>\n",
       "      <th>var_198</th>\n",
       "      <th>var_199</th>\n",
       "      <th>var_200</th>\n",
       "    </tr>\n",
       "  </thead>\n",
       "  <tbody>\n",
       "    <tr>\n",
       "      <th>41</th>\n",
       "      <td>0</td>\n",
       "      <td>0.881</td>\n",
       "      <td>0.425</td>\n",
       "      <td>0.028</td>\n",
       "      <td>0.451</td>\n",
       "      <td>0.673</td>\n",
       "      <td>0.967</td>\n",
       "      <td>0.895</td>\n",
       "      <td>0.622</td>\n",
       "      <td>0.092</td>\n",
       "      <td>...</td>\n",
       "      <td>0.328</td>\n",
       "      <td>0.589</td>\n",
       "      <td>0.889</td>\n",
       "      <td>0.177</td>\n",
       "      <td>0.439</td>\n",
       "      <td>0.213</td>\n",
       "      <td>0.400</td>\n",
       "      <td>0.753</td>\n",
       "      <td>0.643</td>\n",
       "      <td>0.062</td>\n",
       "    </tr>\n",
       "    <tr>\n",
       "      <th>126</th>\n",
       "      <td>1</td>\n",
       "      <td>0.497</td>\n",
       "      <td>0.309</td>\n",
       "      <td>0.684</td>\n",
       "      <td>0.062</td>\n",
       "      <td>0.604</td>\n",
       "      <td>0.383</td>\n",
       "      <td>0.525</td>\n",
       "      <td>0.601</td>\n",
       "      <td>0.053</td>\n",
       "      <td>...</td>\n",
       "      <td>0.770</td>\n",
       "      <td>0.554</td>\n",
       "      <td>0.628</td>\n",
       "      <td>0.567</td>\n",
       "      <td>0.951</td>\n",
       "      <td>0.130</td>\n",
       "      <td>0.787</td>\n",
       "      <td>0.673</td>\n",
       "      <td>0.135</td>\n",
       "      <td>0.329</td>\n",
       "    </tr>\n",
       "    <tr>\n",
       "      <th>110</th>\n",
       "      <td>1</td>\n",
       "      <td>0.183</td>\n",
       "      <td>0.711</td>\n",
       "      <td>0.093</td>\n",
       "      <td>0.983</td>\n",
       "      <td>0.398</td>\n",
       "      <td>0.335</td>\n",
       "      <td>0.659</td>\n",
       "      <td>0.223</td>\n",
       "      <td>0.118</td>\n",
       "      <td>...</td>\n",
       "      <td>0.424</td>\n",
       "      <td>0.866</td>\n",
       "      <td>0.871</td>\n",
       "      <td>0.300</td>\n",
       "      <td>0.370</td>\n",
       "      <td>0.021</td>\n",
       "      <td>0.669</td>\n",
       "      <td>0.362</td>\n",
       "      <td>0.060</td>\n",
       "      <td>0.578</td>\n",
       "    </tr>\n",
       "    <tr>\n",
       "      <th>228</th>\n",
       "      <td>0</td>\n",
       "      <td>0.445</td>\n",
       "      <td>0.182</td>\n",
       "      <td>0.909</td>\n",
       "      <td>0.845</td>\n",
       "      <td>0.876</td>\n",
       "      <td>0.706</td>\n",
       "      <td>0.134</td>\n",
       "      <td>0.029</td>\n",
       "      <td>0.998</td>\n",
       "      <td>...</td>\n",
       "      <td>0.436</td>\n",
       "      <td>0.218</td>\n",
       "      <td>0.644</td>\n",
       "      <td>0.485</td>\n",
       "      <td>0.294</td>\n",
       "      <td>0.811</td>\n",
       "      <td>0.616</td>\n",
       "      <td>0.576</td>\n",
       "      <td>0.256</td>\n",
       "      <td>0.471</td>\n",
       "    </tr>\n",
       "    <tr>\n",
       "      <th>50</th>\n",
       "      <td>1</td>\n",
       "      <td>0.848</td>\n",
       "      <td>0.319</td>\n",
       "      <td>0.460</td>\n",
       "      <td>0.313</td>\n",
       "      <td>0.112</td>\n",
       "      <td>0.078</td>\n",
       "      <td>0.776</td>\n",
       "      <td>0.834</td>\n",
       "      <td>0.394</td>\n",
       "      <td>...</td>\n",
       "      <td>0.424</td>\n",
       "      <td>0.767</td>\n",
       "      <td>0.467</td>\n",
       "      <td>0.614</td>\n",
       "      <td>0.118</td>\n",
       "      <td>0.710</td>\n",
       "      <td>0.807</td>\n",
       "      <td>0.335</td>\n",
       "      <td>0.987</td>\n",
       "      <td>0.259</td>\n",
       "    </tr>\n",
       "  </tbody>\n",
       "</table>\n",
       "<p>5 rows × 201 columns</p>\n",
       "</div>"
      ],
      "text/plain": [
       "     target  var_1  var_2  var_3  var_4  var_5  var_6  var_7  var_8  var_9  \\\n",
       "41        0  0.881  0.425  0.028  0.451  0.673  0.967  0.895  0.622  0.092   \n",
       "126       1  0.497  0.309  0.684  0.062  0.604  0.383  0.525  0.601  0.053   \n",
       "110       1  0.183  0.711  0.093  0.983  0.398  0.335  0.659  0.223  0.118   \n",
       "228       0  0.445  0.182  0.909  0.845  0.876  0.706  0.134  0.029  0.998   \n",
       "50        1  0.848  0.319  0.460  0.313  0.112  0.078  0.776  0.834  0.394   \n",
       "\n",
       "     ...  var_191  var_192  var_193  var_194  var_195  var_196  var_197  \\\n",
       "41   ...    0.328    0.589    0.889    0.177    0.439    0.213    0.400   \n",
       "126  ...    0.770    0.554    0.628    0.567    0.951    0.130    0.787   \n",
       "110  ...    0.424    0.866    0.871    0.300    0.370    0.021    0.669   \n",
       "228  ...    0.436    0.218    0.644    0.485    0.294    0.811    0.616   \n",
       "50   ...    0.424    0.767    0.467    0.614    0.118    0.710    0.807   \n",
       "\n",
       "     var_198  var_199  var_200  \n",
       "41     0.753    0.643    0.062  \n",
       "126    0.673    0.135    0.329  \n",
       "110    0.362    0.060    0.578  \n",
       "228    0.576    0.256    0.471  \n",
       "50     0.335    0.987    0.259  \n",
       "\n",
       "[5 rows x 201 columns]"
      ]
     },
     "execution_count": 3,
     "metadata": {},
     "output_type": "execute_result"
    }
   ],
   "source": [
    "#Load data\n",
    "df = pd.read_csv(\"training.csv\")\n",
    "df = df.drop(columns={\"id\"})\n",
    "df.sample(5)"
   ]
  },
  {
   "cell_type": "code",
   "execution_count": 5,
   "metadata": {},
   "outputs": [
    {
     "name": "stdout",
     "output_type": "stream",
     "text": [
      "target\n"
     ]
    }
   ],
   "source": [
    "df_eda = ml_utils.edaDF(df,\"target\")\n",
    "print(df_eda.giveTarget())"
   ]
  },
  {
   "cell_type": "markdown",
   "metadata": {},
   "source": [
    "### Starting\n",
    "\n",
    "For this assignment, you have a small training set, so combatting overfitting is key in being accurate!"
   ]
  },
  {
   "cell_type": "code",
   "execution_count": null,
   "metadata": {},
   "outputs": [
    {
     "data": {
      "text/plain": [
       "(250, 201)"
      ]
     },
     "execution_count": 3,
     "metadata": {},
     "output_type": "execute_result"
    }
   ],
   "source": [
    "df.shape"
   ]
  },
  {
   "attachments": {},
   "cell_type": "markdown",
   "metadata": {},
   "source": [
    "#### Do Modelling Stuff\n",
    "\n",
    "Make a tree model (of some vareity) and make it fit well. Keep in mind the possibility of your tree overfitting, and think of steps you may need to combat that shoudl it occur. "
   ]
  },
  {
   "cell_type": "code",
   "execution_count": 10,
   "metadata": {},
   "outputs": [],
   "source": [
    "y = np.array(df[\"target\"]).reshape(-1,1)\n",
    "X = np.array(df.drop(columns={\"target\"}))\n",
    "\n",
    "X_train, X_test, y_train, y_test = train_test_split(X, y, random_state=0)"
   ]
  },
  {
   "cell_type": "code",
   "execution_count": 48,
   "metadata": {},
   "outputs": [
    {
     "name": "stdout",
     "output_type": "stream",
     "text": [
      "DecisionTreeClassifier(max_depth=12, min_samples_split=15)\n",
      "Training Accuracy: 0.9625668449197861\n",
      "Testing Accuracy: 0.5396825396825397\n"
     ]
    }
   ],
   "source": [
    "tree_para = {'min_samples_split':[5,10,15],'max_depth':[7,10,12],'criterion':[\"gini\",\"entropy\"]}\n",
    "clf = GridSearchCV(estimator=DecisionTreeClassifier(), param_grid=tree_para, cv=10) \n",
    "clf.fit(X_train, y_train)\n",
    "print(clf.best_estimator_)\n",
    "print(\"Training Accuracy:\", clf.score(X_train, y_train))\n",
    "print(\"Testing Accuracy:\", clf.score(X_test, y_test))"
   ]
  },
  {
   "cell_type": "markdown",
   "metadata": {},
   "source": [
    "### Finishing\n",
    "\n",
    "At the conclusion, please name your best model \"best\". If you look down below in the testing stuff, it should be usable to score as \"best\". \n",
    "\n",
    "You should be able to call it like this and it should work (with whatever data names you have)"
   ]
  },
  {
   "cell_type": "code",
   "execution_count": 51,
   "metadata": {},
   "outputs": [
    {
     "name": "stdout",
     "output_type": "stream",
     "text": [
      "0.5238095238095238\n",
      "DecisionTreeClassifier(max_features=60, max_leaf_nodes=7, min_samples_leaf=10,\n",
      "                       min_samples_split=5, random_state=0)\n"
     ]
    },
    {
     "data": {
      "text/plain": [
       "[Text(0.5555555555555556, 0.9166666666666666, 'X[177] <= 0.113\\ngini = 0.499\\nsamples = 187\\nvalue = [89, 98]'),\n",
       " Text(0.4444444444444444, 0.75, 'gini = 0.231\\nsamples = 30\\nvalue = [4, 26]'),\n",
       " Text(0.6666666666666666, 0.75, 'X[199] <= 0.857\\ngini = 0.497\\nsamples = 157\\nvalue = [85, 72]'),\n",
       " Text(0.5555555555555556, 0.5833333333333334, 'X[129] <= 0.391\\ngini = 0.477\\nsamples = 130\\nvalue = [79, 51]'),\n",
       " Text(0.3333333333333333, 0.4166666666666667, 'X[2] <= 0.911\\ngini = 0.498\\nsamples = 62\\nvalue = [29, 33]'),\n",
       " Text(0.2222222222222222, 0.25, 'X[35] <= 0.445\\ngini = 0.473\\nsamples = 52\\nvalue = [20, 32]'),\n",
       " Text(0.1111111111111111, 0.08333333333333333, 'gini = 0.278\\nsamples = 30\\nvalue = [5, 25]'),\n",
       " Text(0.3333333333333333, 0.08333333333333333, 'gini = 0.434\\nsamples = 22\\nvalue = [15, 7]'),\n",
       " Text(0.4444444444444444, 0.25, 'gini = 0.18\\nsamples = 10\\nvalue = [9, 1]'),\n",
       " Text(0.7777777777777778, 0.4166666666666667, 'X[42] <= 0.242\\ngini = 0.389\\nsamples = 68\\nvalue = [50, 18]'),\n",
       " Text(0.6666666666666666, 0.25, 'gini = 0.475\\nsamples = 18\\nvalue = [7, 11]'),\n",
       " Text(0.8888888888888888, 0.25, 'gini = 0.241\\nsamples = 50\\nvalue = [43, 7]'),\n",
       " Text(0.7777777777777778, 0.5833333333333334, 'gini = 0.346\\nsamples = 27\\nvalue = [6, 21]')]"
      ]
     },
     "execution_count": 51,
     "metadata": {},
     "output_type": "execute_result"
    },
    {
     "data": {
      "image/png": "[encoded data removed]",
      "text/plain": [
       "<Figure size 800x800 with 1 Axes>"
      ]
     },
     "metadata": {},
     "output_type": "display_data"
    }
   ],
   "source": [
    "numeric_transformer = Pipeline( steps=[\n",
    "        (\"imputer\", SimpleImputer(strategy=\"mean\")),\n",
    "        (\"scaler\", MinMaxScaler())\n",
    "    ])\n",
    "preprocessor = Pipeline( steps=[\n",
    "        (\"num\", numeric_transformer)])\n",
    "pipeline_steps = [('pre', preprocessor),('DT', DecisionTreeClassifier(random_state=0,min_samples_split=5,min_samples_leaf=10,max_leaf_nodes=7,max_features=60)) ]\n",
    "best = Pipeline(pipeline_steps)\n",
    "best.fit(X_train, y_train)\n",
    "print(best.score(X_test, y_test))\n",
    "print(best._final_estimator)\n",
    "plot_tree(best._final_estimator)"
   ]
  },
  {
   "cell_type": "markdown",
   "metadata": {},
   "source": [
    "### Testing\n",
    "\n",
    "Please leave the stuff below as-is in your file. \n",
    "\n",
    "This will take your best model and score it with the test data. If you want to test to make sure that yours works, make a copy of the data file and rename it testing.csv, then make sure this runs ok. I will do the same, but the contents of my test file will be different. "
   ]
  },
  {
   "cell_type": "code",
   "execution_count": 25,
   "metadata": {},
   "outputs": [],
   "source": [
    "#test_df=df.sample(100)"
   ]
  },
  {
   "cell_type": "code",
   "execution_count": 27,
   "metadata": {},
   "outputs": [
    {
     "name": "stdout",
     "output_type": "stream",
     "text": [
      "0.8498389694041868\n",
      "0.85\n",
      "Nishaa muthusamy 0.8499194847020934\n"
     ]
    }
   ],
   "source": [
    "#Load Test Data\n",
    "test_df = pd.read_csv(\"testing.csv\")\n",
    "test_df = test_df.drop(columns={\"id\"})\n",
    "#Create tests and score\n",
    "test_y = np.array(test_df[\"target\"]).reshape(-1,1)\n",
    "test_X = np.array(test_df.drop(columns={\"target\"}))\n",
    "\n",
    "preds = best.predict(test_X)\n",
    "\n",
    "roc_score = roc_auc_score(test_y, preds)\n",
    "acc_score = accuracy_score(test_y, preds)\n",
    "\n",
    "print(roc_score)\n",
    "print(acc_score)\n",
    "print(name, np.mean([roc_score, acc_score]))\n"
   ]
  },
  {
   "attachments": {},
   "cell_type": "markdown",
   "metadata": {},
   "source": [
    "### What Accuracy Changes Were Used\n",
    "\n",
    "Please list here what you did to try to increase accuracy and/or limit overfitting:\n",
    "<ul>\n",
    "<li>\n",
    "<li>\n",
    "</ul>"
   ]
  }
 ],
 "metadata": {
  "kernelspec": {
   "display_name": "base",
   "language": "python",
   "name": "python3"
  },
  "language_info": {
   "codemirror_mode": {
    "name": "ipython",
    "version": 3
   },
   "file_extension": ".py",
   "mimetype": "text/x-python",
   "name": "python",
   "nbconvert_exporter": "python",
   "pygments_lexer": "ipython3",
   "version": "3.9.12"
  },
  "orig_nbformat": 4,
  "vscode": {
   "interpreter": {
    "hash": "23558032b00ee6b68473e6823c75ce9d636029f112ff94112151df65d8686c23"
   }
  }
 },
 "nbformat": 4,
 "nbformat_minor": 2
}
